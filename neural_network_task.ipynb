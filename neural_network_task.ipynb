{
 "cells": [
  {
   "cell_type": "markdown",
   "metadata": {
    "id": "zTMqss9QlpKl"
   },
   "source": [
    "# Capstone Project: Slogan Classifier and Generator\n",
    "\n",
    "In this capstone project you will train a Long Short-Term Memory (LSTM) model to generate slogans for businesses based on their industry, and also train a classifier to predict the industry based on a given slogan."
   ]
  },
  {
   "cell_type": "markdown",
   "metadata": {
    "id": "R11lkWvYvXC-"
   },
   "source": [
    "##Libraries\n",
    "We recommend running this notebook using [Google Colab](https://colab.google/) however if you choose to use your local machine you will need to install spaCy before starting.\n",
    "\n",
    "To install spaCy, refer to the installation instructions provided on the spaCy [website](https://spacy.io/usage). Note you may need to install an older version of Python that is compatible with spaCy. You can create a virtual environment for this project to install the specific version of Python that you need."
   ]
  },
  {
   "cell_type": "code",
   "execution_count": 1,
   "metadata": {
    "id": "XU54-5mpnujt"
   },
   "outputs": [
    {
     "name": "stderr",
     "output_type": "stream",
     "text": [
      "2025-06-20 16:52:11.024615: I tensorflow/core/platform/cpu_feature_guard.cc:182] This TensorFlow binary is optimized to use available CPU instructions in performance-critical operations.\n",
      "To enable the following instructions: AVX2 FMA, in other operations, rebuild TensorFlow with the appropriate compiler flags.\n"
     ]
    }
   ],
   "source": [
    "import pandas as pd\n",
    "import numpy as np\n",
    "import tensorflow as tf\n",
    "from tensorflow.keras.preprocessing.text import Tokenizer\n",
    "from tensorflow.keras.preprocessing.sequence import pad_sequences\n",
    "from tensorflow.keras.models import Sequential\n",
    "from tensorflow.keras.layers import Embedding, LSTM, Dense\n",
    "from tensorflow.keras.optimizers import Adam\n",
    "import spacy # available on Google Colab\n",
    "from sklearn.model_selection import train_test_split"
   ]
  },
  {
   "cell_type": "markdown",
   "metadata": {
    "id": "aedbu0lBovia"
   },
   "source": [
    "## Loading and viewing the dataset\n",
    "\n",
    "- Load the slogan dataset into a variable called data.\n",
    "- Extract relevant columns in a variable called df.\n",
    "- Handle missing values.\n",
    "\n",
    "Do **not** change the column names.\n",
    "\n",
    "If you are using Google Colab you will need mount your Google Drive as follows:  \n",
    "`from google.colab import drive`  \n",
    "`drive.mount('/content/drive')`  \n",
    "\n",
    "The path you use when loading your data will look something like this if you are using your Google Drive:  \n",
    "\"/content/drive/MyDrive/Colab Notebooks/slogan-valid.csv\""
   ]
  },
  {
   "cell_type": "code",
   "execution_count": 2,
   "metadata": {
    "id": "OH39XzGKpTpX"
   },
   "outputs": [
    {
     "data": {
      "text/html": [
       "<div>\n",
       "<style scoped>\n",
       "    .dataframe tbody tr th:only-of-type {\n",
       "        vertical-align: middle;\n",
       "    }\n",
       "\n",
       "    .dataframe tbody tr th {\n",
       "        vertical-align: top;\n",
       "    }\n",
       "\n",
       "    .dataframe thead th {\n",
       "        text-align: right;\n",
       "    }\n",
       "</style>\n",
       "<table border=\"1\" class=\"dataframe\">\n",
       "  <thead>\n",
       "    <tr style=\"text-align: right;\">\n",
       "      <th></th>\n",
       "      <th>industry</th>\n",
       "      <th>output</th>\n",
       "    </tr>\n",
       "  </thead>\n",
       "  <tbody>\n",
       "    <tr>\n",
       "      <th>0</th>\n",
       "      <td>computer hardware</td>\n",
       "      <td>Taking Care of Small Business Technology</td>\n",
       "    </tr>\n",
       "    <tr>\n",
       "      <th>1</th>\n",
       "      <td>health, wellness and fitness</td>\n",
       "      <td>Build World-Class Recreation Programs</td>\n",
       "    </tr>\n",
       "    <tr>\n",
       "      <th>2</th>\n",
       "      <td>internet</td>\n",
       "      <td>Most Powerful Lead Generation Software for Mar...</td>\n",
       "    </tr>\n",
       "    <tr>\n",
       "      <th>3</th>\n",
       "      <td>internet</td>\n",
       "      <td>Hire quality freelancers for your job</td>\n",
       "    </tr>\n",
       "    <tr>\n",
       "      <th>4</th>\n",
       "      <td>financial services</td>\n",
       "      <td>Financial Advisers Norwich, Norfolk</td>\n",
       "    </tr>\n",
       "  </tbody>\n",
       "</table>\n",
       "</div>"
      ],
      "text/plain": [
       "                       industry  \\\n",
       "0             computer hardware   \n",
       "1  health, wellness and fitness   \n",
       "2                      internet   \n",
       "3                      internet   \n",
       "4            financial services   \n",
       "\n",
       "                                              output  \n",
       "0           Taking Care of Small Business Technology  \n",
       "1              Build World-Class Recreation Programs  \n",
       "2  Most Powerful Lead Generation Software for Mar...  \n",
       "3              Hire quality freelancers for your job  \n",
       "4                Financial Advisers Norwich, Norfolk  "
      ]
     },
     "execution_count": 2,
     "metadata": {},
     "output_type": "execute_result"
    }
   ],
   "source": [
    "# Load data from your local machine\n",
    "data = pd.read_csv(\"slogan-valid.csv\")\n",
    "data.head()\n",
    "\n",
    "\n",
    "# Extract relevant columns\n",
    "data.columns\n",
    "df = data[['industry', 'output']]\n",
    "\n",
    "# Drop rows with missing values in either column\n",
    "df = df.dropna(subset=['industry', 'output'])\n",
    "\n",
    "# View the cleaned dataset\n",
    "df.head()\n"
   ]
  },
  {
   "cell_type": "markdown",
   "metadata": {
    "id": "wj6Whax7nSxQ"
   },
   "source": [
    "## Data Preprocessing\n",
    "\n",
    "Since we are working with textual data, we need software that understands natural language. For this, we'll use a library for processing text called **spaCy**. Using spaCy, we'll break the text into smaller units called tokens that are easier for the machine to process. This process is called **tokenisation**. We'll also convert all text to lowercase and remove punctuation because this information is not necessary for our models. Run the code below, and your dataframe (df) will gain a new column called **'processed_slogan'** which contains the preprocessed text.\n",
    "\n",
    "\n"
   ]
  },
  {
   "cell_type": "code",
   "execution_count": 3,
   "metadata": {
    "id": "ZcIWV7IXp9rt"
   },
   "outputs": [
    {
     "data": {
      "text/html": [
       "<div>\n",
       "<style scoped>\n",
       "    .dataframe tbody tr th:only-of-type {\n",
       "        vertical-align: middle;\n",
       "    }\n",
       "\n",
       "    .dataframe tbody tr th {\n",
       "        vertical-align: top;\n",
       "    }\n",
       "\n",
       "    .dataframe thead th {\n",
       "        text-align: right;\n",
       "    }\n",
       "</style>\n",
       "<table border=\"1\" class=\"dataframe\">\n",
       "  <thead>\n",
       "    <tr style=\"text-align: right;\">\n",
       "      <th></th>\n",
       "      <th>industry</th>\n",
       "      <th>output</th>\n",
       "      <th>processed_slogan</th>\n",
       "    </tr>\n",
       "  </thead>\n",
       "  <tbody>\n",
       "    <tr>\n",
       "      <th>0</th>\n",
       "      <td>computer hardware</td>\n",
       "      <td>Taking Care of Small Business Technology</td>\n",
       "      <td>taking care of small business technology</td>\n",
       "    </tr>\n",
       "    <tr>\n",
       "      <th>1</th>\n",
       "      <td>health, wellness and fitness</td>\n",
       "      <td>Build World-Class Recreation Programs</td>\n",
       "      <td>build world class recreation programs</td>\n",
       "    </tr>\n",
       "    <tr>\n",
       "      <th>2</th>\n",
       "      <td>internet</td>\n",
       "      <td>Most Powerful Lead Generation Software for Mar...</td>\n",
       "      <td>most powerful lead generation software for mar...</td>\n",
       "    </tr>\n",
       "    <tr>\n",
       "      <th>3</th>\n",
       "      <td>internet</td>\n",
       "      <td>Hire quality freelancers for your job</td>\n",
       "      <td>hire quality freelancers for your job</td>\n",
       "    </tr>\n",
       "    <tr>\n",
       "      <th>4</th>\n",
       "      <td>financial services</td>\n",
       "      <td>Financial Advisers Norwich, Norfolk</td>\n",
       "      <td>financial advisers norwich norfolk</td>\n",
       "    </tr>\n",
       "  </tbody>\n",
       "</table>\n",
       "</div>"
      ],
      "text/plain": [
       "                       industry  \\\n",
       "0             computer hardware   \n",
       "1  health, wellness and fitness   \n",
       "2                      internet   \n",
       "3                      internet   \n",
       "4            financial services   \n",
       "\n",
       "                                              output  \\\n",
       "0           Taking Care of Small Business Technology   \n",
       "1              Build World-Class Recreation Programs   \n",
       "2  Most Powerful Lead Generation Software for Mar...   \n",
       "3              Hire quality freelancers for your job   \n",
       "4                Financial Advisers Norwich, Norfolk   \n",
       "\n",
       "                                    processed_slogan  \n",
       "0           taking care of small business technology  \n",
       "1              build world class recreation programs  \n",
       "2  most powerful lead generation software for mar...  \n",
       "3              hire quality freelancers for your job  \n",
       "4                 financial advisers norwich norfolk  "
      ]
     },
     "execution_count": 3,
     "metadata": {},
     "output_type": "execute_result"
    }
   ],
   "source": [
    "# import spacy.cli\n",
    "# spacy.cli.download(\"en_core_web_sm\")\n",
    "\n",
    "# Load spaCy model for text processing\n",
    "nlp = spacy.load(\"en_core_web_sm\")\n",
    "\n",
    "# Define text preprocessing function\n",
    "def preprocess_text(text):\n",
    "    text_lower = text.lower()\n",
    "    doc = nlp(text_lower)\n",
    "\n",
    "    processed_tokens = []\n",
    "\n",
    "    for token in doc:\n",
    "        if not token.is_punct:\n",
    "            processed_tokens.append(token.text)\n",
    "\n",
    "    return \" \".join(processed_tokens)\n",
    "\n",
    "df[\"processed_slogan\"] = df[\"output\"].apply(preprocess_text)\n",
    "\n",
    "df.head()"
   ]
  },
  {
   "cell_type": "markdown",
   "metadata": {
    "id": "tXpVm-kItirs"
   },
   "source": [
    "We want our model to generate **industry-specific** slogans. If we use the 'processed_slogan' column as it is, we'll be leaving out crucial context - the industries of the companies behind those slogans. To fix this, we'll create a new **'modified_slogan'** column that adds the industry name to the front of processed slogan.  \n",
    "\n",
    "For example:  \n",
    "\n",
    "> industry = 'computer hardware'  \n",
    "processed_slogan = 'taking care of small business technology'  \n",
    "modified_slogan = 'computer hardware taking care of small business technology'\n",
    "\n",
    "Write code in the cell below to achieve this."
   ]
  },
  {
   "cell_type": "code",
   "execution_count": 4,
   "metadata": {
    "id": "VLNM3yK7ti6x"
   },
   "outputs": [
    {
     "data": {
      "text/html": [
       "<div>\n",
       "<style scoped>\n",
       "    .dataframe tbody tr th:only-of-type {\n",
       "        vertical-align: middle;\n",
       "    }\n",
       "\n",
       "    .dataframe tbody tr th {\n",
       "        vertical-align: top;\n",
       "    }\n",
       "\n",
       "    .dataframe thead th {\n",
       "        text-align: right;\n",
       "    }\n",
       "</style>\n",
       "<table border=\"1\" class=\"dataframe\">\n",
       "  <thead>\n",
       "    <tr style=\"text-align: right;\">\n",
       "      <th></th>\n",
       "      <th>industry</th>\n",
       "      <th>processed_slogan</th>\n",
       "      <th>modified_slogan</th>\n",
       "    </tr>\n",
       "  </thead>\n",
       "  <tbody>\n",
       "    <tr>\n",
       "      <th>0</th>\n",
       "      <td>computer hardware</td>\n",
       "      <td>taking care of small business technology</td>\n",
       "      <td>computer hardware taking care of small busines...</td>\n",
       "    </tr>\n",
       "    <tr>\n",
       "      <th>1</th>\n",
       "      <td>health, wellness and fitness</td>\n",
       "      <td>build world class recreation programs</td>\n",
       "      <td>health, wellness and fitness build world class...</td>\n",
       "    </tr>\n",
       "    <tr>\n",
       "      <th>2</th>\n",
       "      <td>internet</td>\n",
       "      <td>most powerful lead generation software for mar...</td>\n",
       "      <td>internet most powerful lead generation softwar...</td>\n",
       "    </tr>\n",
       "    <tr>\n",
       "      <th>3</th>\n",
       "      <td>internet</td>\n",
       "      <td>hire quality freelancers for your job</td>\n",
       "      <td>internet hire quality freelancers for your job</td>\n",
       "    </tr>\n",
       "    <tr>\n",
       "      <th>4</th>\n",
       "      <td>financial services</td>\n",
       "      <td>financial advisers norwich norfolk</td>\n",
       "      <td>financial services financial advisers norwich ...</td>\n",
       "    </tr>\n",
       "  </tbody>\n",
       "</table>\n",
       "</div>"
      ],
      "text/plain": [
       "                       industry  \\\n",
       "0             computer hardware   \n",
       "1  health, wellness and fitness   \n",
       "2                      internet   \n",
       "3                      internet   \n",
       "4            financial services   \n",
       "\n",
       "                                    processed_slogan  \\\n",
       "0           taking care of small business technology   \n",
       "1              build world class recreation programs   \n",
       "2  most powerful lead generation software for mar...   \n",
       "3              hire quality freelancers for your job   \n",
       "4                 financial advisers norwich norfolk   \n",
       "\n",
       "                                     modified_slogan  \n",
       "0  computer hardware taking care of small busines...  \n",
       "1  health, wellness and fitness build world class...  \n",
       "2  internet most powerful lead generation softwar...  \n",
       "3     internet hire quality freelancers for your job  \n",
       "4  financial services financial advisers norwich ...  "
      ]
     },
     "execution_count": 4,
     "metadata": {},
     "output_type": "execute_result"
    }
   ],
   "source": [
    "# Create a new column by prepending the industry to the processed slogan\n",
    "df['modified_slogan'] = df['industry'] + ' ' + df['processed_slogan']\n",
    "\n",
    "# View a few rows to confirm\n",
    "df[['industry', 'processed_slogan', 'modified_slogan']].head()\n"
   ]
  },
  {
   "cell_type": "markdown",
   "metadata": {
    "id": "_AJyWXVnwyNQ"
   },
   "source": [
    "Now we need to get data to train our model. We have textual data which we will need to represent numerically for our model to learn from it.  \n",
    "The code below does the following:\n",
    "1. Tokenizes a dataset of slogans.\n",
    "2. Converts words to numerical indices.\n",
    "3. Creates input sequences using the numerical indices.  \n",
    "\n",
    "Here's how it works. From the 'modified_slogan' column, we take the slogan \"computer hardware taking care of small business technology\". The tokenisation process will convert words into their corresponding indices:  \n",
    "\n",
    "<center>\n",
    "\n",
    "| Word         | Token Index |\n",
    "|-------------|-------|\n",
    "| \"computer\"  | 1     |\n",
    "| \"hardware\"  | 2     |\n",
    "| \"taking\"    | 3     |\n",
    "| \"care\"      | 4     |\n",
    "| \"of\"        | 5     |\n",
    "| \"small\"     | 6     |\n",
    "| \"business\"  | 7     |\n",
    "| \"technology\"| 8     |\n",
    "\n",
    "</center>\n",
    "\n",
    "So the tokenized list is:\n",
    "\n",
    "<center>\n",
    "[1, 2, 3, 4, 5, 6, 7, 8]\n",
    "</center>\n",
    "\n",
    "When creating input sequences for training, the loop generates progressively longer sequences.\n",
    "\n",
    "<center>\n",
    "\n",
    "| Token Index Sequence               | Corresponding Slogan                                 |\n",
    "|------------------------------|-----------------------------------------------------|\n",
    "| [1, 2]                       | \"computer hardware\"                                |\n",
    "| [1, 2, 3]                    | \"computer hardware taking\"                        |\n",
    "| [1, 2, 3, 4]                 | \"computer hardware taking care\"                   |\n",
    "| [1, 2, 3, 4, 5]              | \"computer hardware taking care of\"                |\n",
    "| [1, 2, 3, 4, 5, 6]           | \"computer hardware taking care of small\"          |\n",
    "| [1, 2, 3, 4, 5, 6, 7]        | \"computer hardware taking care of small business\" |\n",
    "| [1, 2, 3, 4, 5, 6, 7, 8]     | \"computer hardware taking care of small business technology\" |\n",
    "\n",
    "</center>\n",
    "\n",
    "Instead of training the model on only **complete slogans**, we provide partial phrases which will help the model learn how words connect over time. This will make it better at predicting the next word when generating slogans.  \n",
    "\n",
    "Run the cell block below to generate the input sequences. Be sure to read the comments to understand what the code is doing.\n"
   ]
  },
  {
   "cell_type": "code",
   "execution_count": 5,
   "metadata": {
    "id": "1Sl1Id28oXgu"
   },
   "outputs": [],
   "source": [
    "'''** Clean up comments'''\n",
    "\n",
    "# Tokenizer to convert words into numerical values tokens\n",
    "tokenizer = Tokenizer()\n",
    "\n",
    "# Tokenizer learns words in dataset\n",
    "tokenizer.fit_on_texts(df[\"modified_slogan\"])\n",
    "\n",
    "# Total number of unique words in learned vocabulary\n",
    "total_words = len(tokenizer.word_index) + 1\n",
    "\n",
    "# Dictionary mapping words to its numerical index: index based on frequency i.e., more freq => lower index\n",
    "tokenizer.word_index\n",
    "\n",
    "# Creating input sequences\n",
    "# Initialise list to store the input sequences\n",
    "input_sequences = []\n",
    "\n",
    "# Iterate over processed slogans\n",
    "for line in df[\"modified_slogan\"]:\n",
    "\n",
    "    # Convert slogans to token sequences\n",
    "    token_list = tokenizer.texts_to_sequences([line])[0] # returns list containing list of words indices; extracting inner list [0]\n",
    "\n",
    "    # token_list is a list of tokenized word INDICES\n",
    "    # Building list of progressively longer input sequences for better training\n",
    "    for i in range(1, len(token_list)):\n",
    "        input_sequences.append(token_list[:i+1])"
   ]
  },
  {
   "cell_type": "markdown",
   "metadata": {
    "id": "8lY8QgnST-MA"
   },
   "source": [
    "The input sequences created above are of **varying lengths**, which will be a problem when training our LSTM model. LSTMs require input sequences of **equal length**. So, we need to **pad** shorter sequences by **prepending zeros** until they match the length of the longest sequence.  \n",
    "\n",
    "For example, if the longest sequence has **10 tokens**, our padded sequences will look like this:\n",
    "\n",
    "<center>\n",
    "\n",
    "| Input Sequence                     | Padded Sequence                         |\n",
    "|-------------------------------------|-----------------------------------------|\n",
    "| [1, 2]                              | [0, 0, 0, 0, 0, 0, 0, 0, 1, 2]         |\n",
    "| [1, 2, 3]                           | [0, 0, 0, 0, 0, 0, 0, 1, 2, 3]         |\n",
    "| [1, 2, 3, 4]                        | [0, 0, 0, 0, 0, 0, 1, 2, 3, 4]         |\n",
    "| [1, 2, 3, 4, 5]                     | [0, 0, 0, 0, 0, 1, 2, 3, 4, 5]         |\n",
    "| [1, 2, 3, 4, 5, 6]                  | [0, 0, 0, 0, 1, 2, 3, 4, 5, 6]         |\n",
    "| [1, 2, 3, 4, 5, 6, 7]               | [0, 0, 0, 1, 2, 3, 4, 5, 6, 7]         |\n",
    "| [1, 2, 3, 4, 5, 6, 7, 8]            | [0, 0, 1, 2, 3, 4, 5, 6, 7, 8]         |\n",
    "\n",
    "</center>\n",
    "\n",
    "In the cell below, write code that **finds the length of the longest sequence** in **input_sequences** and stores this value in a variable named **max_seq_len**.\n"
   ]
  },
  {
   "cell_type": "code",
   "execution_count": 6,
   "metadata": {
    "id": "-xqxBtBoT-vF"
   },
   "outputs": [
    {
     "name": "stdout",
     "output_type": "stream",
     "text": [
      "Maximum sequence length: 15\n"
     ]
    }
   ],
   "source": [
    "# Find the maximum sequence length\n",
    "max_seq_len = max(len(seq) for seq in input_sequences)\n",
    "\n",
    "print(\"Maximum sequence length:\", max_seq_len)\n"
   ]
  },
  {
   "cell_type": "markdown",
   "metadata": {
    "id": "RGE2b-LsYPBh"
   },
   "source": [
    "Run the cell below to pad the input sequences so they are all the same length as **max_seq_length**."
   ]
  },
  {
   "cell_type": "code",
   "execution_count": 7,
   "metadata": {
    "id": "3sRJZGE-YPo8"
   },
   "outputs": [],
   "source": [
    "input_sequences = pad_sequences(input_sequences, maxlen=max_seq_len, padding=\"pre\")"
   ]
  },
  {
   "cell_type": "markdown",
   "metadata": {
    "id": "xv7pgFrdb6_G"
   },
   "source": [
    "## Training Data for Slogan Generator\n",
    "\n",
    "The input sequences generated will be used as our training data. Our LSTM needs to learn how to predict the **next word** in a sequence.  \n",
    "\n",
    "The inputs for our model will be the input sequences **excluding the last token index** and the outputs will be the **last token index**.  \n",
    "\n",
    "As an example, let us use the input sequence [0, 0, 1, 2, 3, 4, 5, 6, 7, 8] and say it corresponds to the slogan \"computer hardware taking care of small business technology\". When training the model:\n",
    "\n",
    "> Our input **x** will be the input sequence [0, 0, 1, 2, 3, 4, 5, 6, 7] corresponding to \"computer hardware taking care of small\".  \n",
    "> Our output **y** will be [8] which corresponds to \"business\".  \n",
    "\n",
    "In the code cell below, use `input_sequences` to create the following two variables:\n",
    "1. **X_gen** which contains the input sequences excluding the last token index.\n",
    "2. **y_gen** which contains the last token index of the input sequence."
   ]
  },
  {
   "cell_type": "code",
   "execution_count": 8,
   "metadata": {
    "id": "ARUDFwz9ilkF"
   },
   "outputs": [
    {
     "name": "stdout",
     "output_type": "stream",
     "text": [
      "X_gen shape: (34736, 14)\n",
      "y_gen shape: (34736,)\n"
     ]
    }
   ],
   "source": [
    "# Inputs: all tokens except the last one\n",
    "X_gen = input_sequences[:, :-1]\n",
    "\n",
    "# Outputs: the last token of each sequence\n",
    "y_gen = input_sequences[:, -1]\n",
    "\n",
    "print(\"X_gen shape:\", X_gen.shape)\n",
    "print(\"y_gen shape:\", y_gen.shape)"
   ]
  },
  {
   "cell_type": "markdown",
   "metadata": {
    "id": "XXKjM3KPkUHu"
   },
   "source": [
    "The model will output the next word of a sequence over a probability distribution. We need to encode our output variable for this to be possible.\n",
    "\n",
    "In the code cell below, write code that will apply one-hot encoding to **y_gen** using `tf.keras.utils.to_categorical()`. **Maintain the same variable name**.  \n",
    "\n",
    "*Hint: set the `num_classes` (number of classes) parameter to the total number of unique words in the learned vocabulary. You can access this value through a variable that was created when generating input sequences earlier.*"
   ]
  },
  {
   "cell_type": "code",
   "execution_count": 9,
   "metadata": {
    "id": "0FpxfR4rkUTK"
   },
   "outputs": [
    {
     "name": "stdout",
     "output_type": "stream",
     "text": [
      "One-hot encoded y_gen shape: (34736, 6046)\n"
     ]
    }
   ],
   "source": [
    "from tensorflow.keras.preprocessing.sequence import pad_sequences\n",
    "from tensorflow.keras.utils import to_categorical\n",
    "import numpy as np\n",
    "\n",
    "# One-hot encode the output sequences\n",
    "y_gen = to_categorical(y_gen, num_classes=total_words)\n",
    "\n",
    "print(\"One-hot encoded y_gen shape:\", y_gen.shape)"
   ]
  },
  {
   "cell_type": "markdown",
   "metadata": {
    "id": "TUraZ3Rbn7Az"
   },
   "source": [
    "## Slogan Generator Architecture\n",
    "\n",
    "In the code cell that follows, configure the LSTM following these steps:\n",
    "\n",
    "1. Create a sequential model using `tf.keras.models.Sequential()`. This model will have an embedding layer, two LSTM layers, and a dense output layer.\n",
    "2. Add an embedding layer that converts words into dense vector representations. This layer should:\n",
    "> *   Have `total_words`as the vocabulary size.\n",
    "> *   Use 100 as an embedding dimension.\n",
    "> *   Takes an input length of `max_seq_len - 1` (excludes the target word).\n",
    "3. Add two LSTM layers.\n",
    "> *   The first LSTM layer should have 150 **and** set `return_sequences` to `True`.\n",
    "> *   The second LSTM layer should have 100 units.\n",
    "4. Add a dense output layer which:\n",
    "> *   Uses `total_words` as the number of units (one for each word in the vocabulary).\n",
    "> *   Uses a softmax activation function.\n",
    "5. Use `Sequential` to put everything together in the correct order to complete the architecture of the LSTM model called **gen_model**.\n"
   ]
  },
  {
   "cell_type": "code",
   "execution_count": 10,
   "metadata": {
    "id": "0wnqMaqZn7QP"
   },
   "outputs": [],
   "source": [
    "gen_model = Sequential()\n",
    "\n",
    "# Embedding layer: vocab size = total_words, embedding dim = 100, input length = max_seq_len - 1\n",
    "gen_model.add(Embedding(input_dim=total_words, output_dim=100, input_length=max_seq_len - 1))\n",
    "\n",
    "# First LSTM layer with 150 units, returning sequences\n",
    "gen_model.add(LSTM(150, return_sequences=True))\n",
    "\n",
    "# Second LSTM layer with 100 units\n",
    "gen_model.add(LSTM(100))\n",
    "\n",
    "# Dense output layer with softmax activation for predicting next word\n",
    "gen_model.add(Dense(total_words, activation='softmax'))\n"
   ]
  },
  {
   "cell_type": "markdown",
   "metadata": {
    "id": "7bBvS8m0rvjW"
   },
   "source": [
    "In the code cell below, compile `gen_model` using `categorical_crossentropy` loss, an Adam optimiser, and an appropriate metric of your choice.\n"
   ]
  },
  {
   "cell_type": "code",
   "execution_count": 11,
   "metadata": {
    "id": "Tb6NRsGir6XN"
   },
   "outputs": [],
   "source": [
    "# Set the loss to categorical crossentropy, uses the \n",
    "# Adam optimizer with default parameters, \n",
    "# and tracks accuracy during training.\n",
    "\n",
    "from tensorflow.keras.optimizers import Adam\n",
    "\n",
    "gen_model.compile(\n",
    "    loss='categorical_crossentropy',\n",
    "    optimizer=Adam(),\n",
    "    metrics=['accuracy']\n",
    ")"
   ]
  },
  {
   "cell_type": "markdown",
   "metadata": {
    "id": "ZwdAZH-ysr9d"
   },
   "source": [
    "## Slogan Generation\n",
    "\n",
    "In the code cell below, fit the compiled model on the inputs and outputs, setting the **number of epochs to 50**."
   ]
  },
  {
   "cell_type": "code",
   "execution_count": 12,
   "metadata": {
    "id": "Nkb5HbGCssZg"
   },
   "outputs": [
    {
     "name": "stdout",
     "output_type": "stream",
     "text": [
      "Epoch 1/50\n",
      "435/435 [==============================] - 65s 131ms/step - loss: 7.2783 - accuracy: 0.0629 - val_loss: 6.9807 - val_accuracy: 0.0645\n",
      "Epoch 2/50\n",
      "435/435 [==============================] - 50s 115ms/step - loss: 6.6953 - accuracy: 0.0740 - val_loss: 6.8938 - val_accuracy: 0.0924\n",
      "Epoch 3/50\n",
      "435/435 [==============================] - 52s 119ms/step - loss: 6.4160 - accuracy: 0.0920 - val_loss: 6.7927 - val_accuracy: 0.0937\n",
      "Epoch 4/50\n",
      "435/435 [==============================] - 49s 112ms/step - loss: 6.2071 - accuracy: 0.1088 - val_loss: 6.7669 - val_accuracy: 0.1187\n",
      "Epoch 5/50\n",
      "435/435 [==============================] - 47s 109ms/step - loss: 6.0312 - accuracy: 0.1298 - val_loss: 6.7077 - val_accuracy: 0.1421\n",
      "Epoch 6/50\n",
      "435/435 [==============================] - 49s 112ms/step - loss: 5.8610 - accuracy: 0.1500 - val_loss: 6.6501 - val_accuracy: 0.1544\n",
      "Epoch 7/50\n",
      "435/435 [==============================] - 50s 114ms/step - loss: 5.6986 - accuracy: 0.1693 - val_loss: 6.6060 - val_accuracy: 0.1765\n",
      "Epoch 8/50\n",
      "435/435 [==============================] - 49s 113ms/step - loss: 5.5467 - accuracy: 0.1863 - val_loss: 6.6221 - val_accuracy: 0.1921\n",
      "Epoch 9/50\n",
      "435/435 [==============================] - 49s 112ms/step - loss: 5.4080 - accuracy: 0.2024 - val_loss: 6.6569 - val_accuracy: 0.2039\n",
      "Epoch 10/50\n",
      "435/435 [==============================] - 52s 120ms/step - loss: 5.2745 - accuracy: 0.2151 - val_loss: 6.6524 - val_accuracy: 0.2091\n",
      "Epoch 11/50\n",
      "435/435 [==============================] - 49s 112ms/step - loss: 5.1489 - accuracy: 0.2234 - val_loss: 6.6972 - val_accuracy: 0.2189\n",
      "Epoch 12/50\n",
      "435/435 [==============================] - 50s 116ms/step - loss: 5.0263 - accuracy: 0.2332 - val_loss: 6.7344 - val_accuracy: 0.2188\n",
      "Epoch 13/50\n",
      "435/435 [==============================] - 50s 114ms/step - loss: 4.9102 - accuracy: 0.2399 - val_loss: 6.7441 - val_accuracy: 0.2239\n",
      "Epoch 14/50\n",
      "435/435 [==============================] - 49s 114ms/step - loss: 4.7983 - accuracy: 0.2462 - val_loss: 6.8255 - val_accuracy: 0.2299\n",
      "Epoch 15/50\n",
      "435/435 [==============================] - 50s 115ms/step - loss: 4.6891 - accuracy: 0.2541 - val_loss: 6.8578 - val_accuracy: 0.2307\n",
      "Epoch 16/50\n",
      "435/435 [==============================] - 57s 132ms/step - loss: 4.5815 - accuracy: 0.2593 - val_loss: 6.8406 - val_accuracy: 0.2350\n",
      "Epoch 17/50\n",
      "435/435 [==============================] - 53s 123ms/step - loss: 4.4830 - accuracy: 0.2622 - val_loss: 6.9265 - val_accuracy: 0.2347\n",
      "Epoch 18/50\n",
      "435/435 [==============================] - 50s 114ms/step - loss: 4.3779 - accuracy: 0.2685 - val_loss: 7.0000 - val_accuracy: 0.2376\n",
      "Epoch 19/50\n",
      "435/435 [==============================] - 50s 115ms/step - loss: 4.2771 - accuracy: 0.2740 - val_loss: 7.0973 - val_accuracy: 0.2406\n",
      "Epoch 20/50\n",
      "435/435 [==============================] - 49s 112ms/step - loss: 4.1772 - accuracy: 0.2773 - val_loss: 7.1673 - val_accuracy: 0.2399\n",
      "Epoch 21/50\n",
      "435/435 [==============================] - 50s 115ms/step - loss: 4.0796 - accuracy: 0.2832 - val_loss: 7.2487 - val_accuracy: 0.2427\n",
      "Epoch 22/50\n",
      "435/435 [==============================] - 50s 116ms/step - loss: 3.9828 - accuracy: 0.2889 - val_loss: 7.3729 - val_accuracy: 0.2382\n",
      "Epoch 23/50\n",
      "435/435 [==============================] - 50s 115ms/step - loss: 3.8903 - accuracy: 0.2935 - val_loss: 7.4456 - val_accuracy: 0.2402\n",
      "Epoch 24/50\n",
      "435/435 [==============================] - 49s 112ms/step - loss: 3.7991 - accuracy: 0.3013 - val_loss: 7.5586 - val_accuracy: 0.2415\n",
      "Epoch 25/50\n",
      "435/435 [==============================] - 59s 135ms/step - loss: 3.7097 - accuracy: 0.3091 - val_loss: 7.6639 - val_accuracy: 0.2444\n",
      "Epoch 26/50\n",
      "435/435 [==============================] - 49s 112ms/step - loss: 3.6240 - accuracy: 0.3187 - val_loss: 7.7785 - val_accuracy: 0.2405\n",
      "Epoch 27/50\n",
      "435/435 [==============================] - 50s 115ms/step - loss: 3.5417 - accuracy: 0.3277 - val_loss: 7.8851 - val_accuracy: 0.2428\n",
      "Epoch 28/50\n",
      "435/435 [==============================] - 49s 112ms/step - loss: 3.4622 - accuracy: 0.3402 - val_loss: 8.0180 - val_accuracy: 0.2432\n",
      "Epoch 29/50\n",
      "435/435 [==============================] - 53s 122ms/step - loss: 3.3831 - accuracy: 0.3510 - val_loss: 8.1197 - val_accuracy: 0.2444\n",
      "Epoch 30/50\n",
      "435/435 [==============================] - 49s 113ms/step - loss: 3.3085 - accuracy: 0.3625 - val_loss: 8.2207 - val_accuracy: 0.2435\n",
      "Epoch 31/50\n",
      "435/435 [==============================] - 53s 122ms/step - loss: 3.2328 - accuracy: 0.3749 - val_loss: 8.3346 - val_accuracy: 0.2421\n",
      "Epoch 32/50\n",
      "435/435 [==============================] - 52s 120ms/step - loss: 3.1617 - accuracy: 0.3859 - val_loss: 8.4703 - val_accuracy: 0.2442\n",
      "Epoch 33/50\n",
      "435/435 [==============================] - 55s 127ms/step - loss: 3.0923 - accuracy: 0.3953 - val_loss: 8.5794 - val_accuracy: 0.2432\n",
      "Epoch 34/50\n",
      "435/435 [==============================] - 53s 122ms/step - loss: 3.0256 - accuracy: 0.4089 - val_loss: 8.7035 - val_accuracy: 0.2422\n",
      "Epoch 35/50\n",
      "435/435 [==============================] - 53s 122ms/step - loss: 2.9629 - accuracy: 0.4185 - val_loss: 8.7942 - val_accuracy: 0.2421\n",
      "Epoch 36/50\n",
      "435/435 [==============================] - 54s 123ms/step - loss: 2.9006 - accuracy: 0.4302 - val_loss: 8.8954 - val_accuracy: 0.2418\n",
      "Epoch 37/50\n",
      "435/435 [==============================] - 52s 120ms/step - loss: 2.8422 - accuracy: 0.4359 - val_loss: 9.0066 - val_accuracy: 0.2422\n",
      "Epoch 38/50\n",
      "435/435 [==============================] - 57s 131ms/step - loss: 2.7866 - accuracy: 0.4461 - val_loss: 9.1193 - val_accuracy: 0.2415\n",
      "Epoch 39/50\n",
      "435/435 [==============================] - 54s 124ms/step - loss: 2.7316 - accuracy: 0.4568 - val_loss: 9.2108 - val_accuracy: 0.2424\n",
      "Epoch 40/50\n",
      "435/435 [==============================] - 53s 122ms/step - loss: 2.6824 - accuracy: 0.4635 - val_loss: 9.3239 - val_accuracy: 0.2445\n",
      "Epoch 41/50\n",
      "435/435 [==============================] - 56s 129ms/step - loss: 2.6298 - accuracy: 0.4720 - val_loss: 9.4099 - val_accuracy: 0.2424\n",
      "Epoch 42/50\n",
      "435/435 [==============================] - 54s 125ms/step - loss: 2.5843 - accuracy: 0.4790 - val_loss: 9.4848 - val_accuracy: 0.2429\n",
      "Epoch 43/50\n",
      "435/435 [==============================] - 58s 132ms/step - loss: 2.5368 - accuracy: 0.4879 - val_loss: 9.5886 - val_accuracy: 0.2414\n",
      "Epoch 44/50\n",
      "435/435 [==============================] - 53s 122ms/step - loss: 2.4887 - accuracy: 0.4943 - val_loss: 9.6901 - val_accuracy: 0.2425\n",
      "Epoch 45/50\n",
      "435/435 [==============================] - 55s 126ms/step - loss: 2.4455 - accuracy: 0.5024 - val_loss: 9.7790 - val_accuracy: 0.2412\n",
      "Epoch 46/50\n",
      "435/435 [==============================] - 56s 130ms/step - loss: 2.4024 - accuracy: 0.5125 - val_loss: 9.8498 - val_accuracy: 0.2401\n",
      "Epoch 47/50\n",
      "435/435 [==============================] - 55s 127ms/step - loss: 2.3598 - accuracy: 0.5194 - val_loss: 9.9696 - val_accuracy: 0.2417\n",
      "Epoch 48/50\n",
      "435/435 [==============================] - 54s 123ms/step - loss: 2.3216 - accuracy: 0.5250 - val_loss: 10.0624 - val_accuracy: 0.2444\n",
      "Epoch 49/50\n",
      "435/435 [==============================] - 59s 134ms/step - loss: 2.2813 - accuracy: 0.5295 - val_loss: 10.1227 - val_accuracy: 0.2428\n",
      "Epoch 50/50\n",
      "435/435 [==============================] - 52s 121ms/step - loss: 2.2450 - accuracy: 0.5395 - val_loss: 10.1854 - val_accuracy: 0.2424\n"
     ]
    }
   ],
   "source": [
    "history = gen_model.fit(\n",
    "    X_gen,\n",
    "    y_gen,\n",
    "    epochs=50,\n",
    "    batch_size=64,\n",
    "    validation_split=0.2\n",
    ")"
   ]
  },
  {
   "cell_type": "markdown",
   "metadata": {
    "id": "Ln30w1SovlKy"
   },
   "source": [
    "We will now define a function called `generate_slogan` which will generate a slogan by predicting one word at a time based on a given starting phrase (the `seed_text`). This function will do this using our trained model, `gen_model`.\n",
    "\n",
    "Here is a breakdown of how the algorithm works:  \n",
    "\n",
    "Let us assume the dictionary mapping words to unique indices, `tokenizer.word_index`, looks like this:\n",
    "\n",
    "> `{'computer': 1, 'hardware': 2, 'taking': 3, 'care': 4, 'of': 5}`\n",
    "\n",
    "If the model's predicted index for the next word is 3 (`predicted_index = 3`), the loop will:\n",
    "\n",
    "> Check 'computer' (index 1) → No match  \n",
    "> Check 'hardware' (index 2) → No match  \n",
    "> Check 'taking' (index 3) → Match found!  \n",
    "> Assign output_word = \"taking\" and exit the loop.  \n",
    "\n",
    "The `output_word` will be appended to the `seed_text`, and the process will continue to add words to the `seed_text` until we have reached the maximum number of words **or** an invalid prediction occurs.  \n",
    "\n",
    "Carefully follow the code below and complete the missing parts as guided by the comments."
   ]
  },
  {
   "cell_type": "code",
   "execution_count": 13,
   "metadata": {
    "id": "oQzoxk5avlXB"
   },
   "outputs": [],
   "source": [
    "def generate_slogan(seed_text, max_words=20):\n",
    "    for _ in range(max_words):\n",
    "\n",
    "        # Tokenising and padding seed_text\n",
    "        token_list = tokenizer.texts_to_sequences([seed_text])[0]\n",
    "        token_list = pad_sequences([token_list], maxlen=max_seq_len-1, padding=\"pre\")\n",
    "\n",
    "        # Use your trained model (gen_model) on token_list to predict the probability distribution of the next word\n",
    "        predictions = gen_model.predict(token_list, verbose=0)\n",
    "\n",
    "        # Identify the word index with the highest probability\n",
    "        predicted_index = np.argmax(predictions, axis=-1)[0]\n",
    "\n",
    "        output_word = None\n",
    "\n",
    "        # Find the word corresponding to the predicted index\n",
    "        for word, index in tokenizer.word_index.items():\n",
    "            if index == predicted_index:\n",
    "                output_word = word\n",
    "                break\n",
    "\n",
    "        # Stop if no valid word is found\n",
    "        if output_word is None:\n",
    "            break\n",
    "\n",
    "        # Append predicted word to the seed_text\n",
    "        seed_text += \" \" + output_word\n",
    "\n",
    "    return seed_text"
   ]
  },
  {
   "cell_type": "markdown",
   "metadata": {
    "id": "AHAlDcCtwPlu"
   },
   "source": [
    "## Training Data for Slogan Classifier\n",
    "\n",
    "We will now prepare the data we will use to train our classifier. For our classifier, the inputs will come from the `processed_slogans` column of our DataFrame, `df`. The outputs will be the different industry categories under the `industry` column.\n",
    "\n",
    "In the code cell below, extract the unique values from the `industry` column in the DataFrame and store these in a variable called **industries**."
   ]
  },
  {
   "cell_type": "code",
   "execution_count": 14,
   "metadata": {
    "id": "-DHQNp-uwcTL"
   },
   "outputs": [
    {
     "name": "stdout",
     "output_type": "stream",
     "text": [
      "['computer hardware' 'health, wellness and fitness' 'internet'\n",
      " 'financial services' 'mechanical or industrial engineering'\n",
      " 'marketing and advertising' 'hospital & health care' 'research'\n",
      " 'information technology and services' 'computer software' 'oil & energy'\n",
      " 'dairy' 'transportation/trucking/railroad' 'design' 'furniture'\n",
      " 'professional training & coaching' 'hospitality' 'textiles'\n",
      " 'food & beverages' 'management consulting' 'medical practice'\n",
      " 'accounting' 'performing arts' 'electrical/electronic manufacturing'\n",
      " 'higher education' 'outsourcing/offshoring'\n",
      " 'venture capital & private equity' 'writing and editing'\n",
      " 'mining & metals' 'construction' 'consumer electronics' 'retail'\n",
      " 'human resources' 'staffing and recruiting' 'farming' 'wholesale'\n",
      " 'events services' 'import and export'\n",
      " 'non-profit organization management' 'machinery' 'information services'\n",
      " 'biotechnology' 'philanthropy' 'law practice' 'real estate'\n",
      " 'graphic design' 'building materials' 'medical devices' 'consumer goods'\n",
      " 'automotive' 'plastics' 'business supplies and equipment'\n",
      " 'civil engineering' 'environmental services' 'architecture & planning'\n",
      " 'investment management' 'publishing' 'industrial automation'\n",
      " 'renewables & environment' 'leisure, travel & tourism'\n",
      " 'education management' 'luxury goods & jewelry' 'insurance' 'printing'\n",
      " 'market research' 'restaurants' 'sporting goods' 'consumer services'\n",
      " 'utilities' 'legal services' 'maritime' 'logistics and supply chain'\n",
      " 'government administration' 'think tanks'\n",
      " 'public relations and communications' 'music' 'food production'\n",
      " 'facilities services' 'shipbuilding' 'civic & social organization'\n",
      " 'international trade and development' 'media production'\n",
      " 'apparel & fashion' 'museums and institutions'\n",
      " 'translation and localization' 'sports' 'executive office' 'newspapers'\n",
      " 'telecommunications' 'broadcast media' 'fine art' 'e-learning'\n",
      " 'pharmaceuticals' 'warehousing' 'chemicals' 'veterinary' 'online media'\n",
      " 'program development' 'individual & family services' 'animation'\n",
      " 'entertainment' 'commercial real estate' 'photography' 'banking'\n",
      " 'airlines/aviation' 'aviation & aerospace' 'computer & network security'\n",
      " 'gambling & casinos' 'wireless' 'cosmetics' 'computer networking'\n",
      " 'packaging and containers' 'nanotechnology' 'mental health care'\n",
      " 'security and investigations' 'primary/secondary education'\n",
      " 'computer games' 'international affairs' 'defense & space' 'military'\n",
      " 'government relations' 'public safety' 'arts and crafts'\n",
      " 'motion pictures and film' 'religious institutions'\n",
      " 'recreational facilities and services' 'wine and spirits'\n",
      " 'investment banking' 'semiconductors' 'capital markets' 'law enforcement'\n",
      " 'tobacco' 'paper & forest products' 'alternative medicine'\n",
      " 'public policy' 'glass, ceramics & concrete' 'judiciary' 'libraries'\n",
      " 'fund-raising' 'political organization' 'package/freight delivery'\n",
      " 'supermarkets']\n"
     ]
    }
   ],
   "source": [
    "industries = df['industry'].unique()\n",
    "print(industries)"
   ]
  },
  {
   "cell_type": "markdown",
   "metadata": {
    "id": "OVRLAurq0fz0"
   },
   "source": [
    "Create a dictionary called `industry_to_index` where each unique industry is mapped to a unique index starting from 0.\n",
    "\n",
    "*Hint: Use the `enumerate()` function.*"
   ]
  },
  {
   "cell_type": "code",
   "execution_count": 15,
   "metadata": {
    "id": "ifWI9iRm0gAQ"
   },
   "outputs": [
    {
     "name": "stdout",
     "output_type": "stream",
     "text": [
      "{'computer hardware': 0, 'health, wellness and fitness': 1, 'internet': 2, 'financial services': 3, 'mechanical or industrial engineering': 4, 'marketing and advertising': 5, 'hospital & health care': 6, 'research': 7, 'information technology and services': 8, 'computer software': 9, 'oil & energy': 10, 'dairy': 11, 'transportation/trucking/railroad': 12, 'design': 13, 'furniture': 14, 'professional training & coaching': 15, 'hospitality': 16, 'textiles': 17, 'food & beverages': 18, 'management consulting': 19, 'medical practice': 20, 'accounting': 21, 'performing arts': 22, 'electrical/electronic manufacturing': 23, 'higher education': 24, 'outsourcing/offshoring': 25, 'venture capital & private equity': 26, 'writing and editing': 27, 'mining & metals': 28, 'construction': 29, 'consumer electronics': 30, 'retail': 31, 'human resources': 32, 'staffing and recruiting': 33, 'farming': 34, 'wholesale': 35, 'events services': 36, 'import and export': 37, 'non-profit organization management': 38, 'machinery': 39, 'information services': 40, 'biotechnology': 41, 'philanthropy': 42, 'law practice': 43, 'real estate': 44, 'graphic design': 45, 'building materials': 46, 'medical devices': 47, 'consumer goods': 48, 'automotive': 49, 'plastics': 50, 'business supplies and equipment': 51, 'civil engineering': 52, 'environmental services': 53, 'architecture & planning': 54, 'investment management': 55, 'publishing': 56, 'industrial automation': 57, 'renewables & environment': 58, 'leisure, travel & tourism': 59, 'education management': 60, 'luxury goods & jewelry': 61, 'insurance': 62, 'printing': 63, 'market research': 64, 'restaurants': 65, 'sporting goods': 66, 'consumer services': 67, 'utilities': 68, 'legal services': 69, 'maritime': 70, 'logistics and supply chain': 71, 'government administration': 72, 'think tanks': 73, 'public relations and communications': 74, 'music': 75, 'food production': 76, 'facilities services': 77, 'shipbuilding': 78, 'civic & social organization': 79, 'international trade and development': 80, 'media production': 81, 'apparel & fashion': 82, 'museums and institutions': 83, 'translation and localization': 84, 'sports': 85, 'executive office': 86, 'newspapers': 87, 'telecommunications': 88, 'broadcast media': 89, 'fine art': 90, 'e-learning': 91, 'pharmaceuticals': 92, 'warehousing': 93, 'chemicals': 94, 'veterinary': 95, 'online media': 96, 'program development': 97, 'individual & family services': 98, 'animation': 99, 'entertainment': 100, 'commercial real estate': 101, 'photography': 102, 'banking': 103, 'airlines/aviation': 104, 'aviation & aerospace': 105, 'computer & network security': 106, 'gambling & casinos': 107, 'wireless': 108, 'cosmetics': 109, 'computer networking': 110, 'packaging and containers': 111, 'nanotechnology': 112, 'mental health care': 113, 'security and investigations': 114, 'primary/secondary education': 115, 'computer games': 116, 'international affairs': 117, 'defense & space': 118, 'military': 119, 'government relations': 120, 'public safety': 121, 'arts and crafts': 122, 'motion pictures and film': 123, 'religious institutions': 124, 'recreational facilities and services': 125, 'wine and spirits': 126, 'investment banking': 127, 'semiconductors': 128, 'capital markets': 129, 'law enforcement': 130, 'tobacco': 131, 'paper & forest products': 132, 'alternative medicine': 133, 'public policy': 134, 'glass, ceramics & concrete': 135, 'judiciary': 136, 'libraries': 137, 'fund-raising': 138, 'political organization': 139, 'package/freight delivery': 140, 'supermarkets': 141}\n"
     ]
    }
   ],
   "source": [
    "industry_to_index = {industry: idx for idx, industry in enumerate(industries)}\n",
    "print(industry_to_index)\n"
   ]
  },
  {
   "cell_type": "markdown",
   "metadata": {
    "id": "pkr04p3g0vzj"
   },
   "source": [
    "Create a new column `industry_index` in your DataFrame by mapping the `industry` column to the indices using the `industry_to_index` dictionary.\n",
    "\n",
    "*Hint: Use the  `map()` function.*"
   ]
  },
  {
   "cell_type": "code",
   "execution_count": 16,
   "metadata": {
    "id": "bRT8zwHc0v7F"
   },
   "outputs": [
    {
     "data": {
      "text/html": [
       "<div>\n",
       "<style scoped>\n",
       "    .dataframe tbody tr th:only-of-type {\n",
       "        vertical-align: middle;\n",
       "    }\n",
       "\n",
       "    .dataframe tbody tr th {\n",
       "        vertical-align: top;\n",
       "    }\n",
       "\n",
       "    .dataframe thead th {\n",
       "        text-align: right;\n",
       "    }\n",
       "</style>\n",
       "<table border=\"1\" class=\"dataframe\">\n",
       "  <thead>\n",
       "    <tr style=\"text-align: right;\">\n",
       "      <th></th>\n",
       "      <th>industry</th>\n",
       "      <th>output</th>\n",
       "      <th>processed_slogan</th>\n",
       "      <th>modified_slogan</th>\n",
       "      <th>industry_index</th>\n",
       "    </tr>\n",
       "  </thead>\n",
       "  <tbody>\n",
       "    <tr>\n",
       "      <th>0</th>\n",
       "      <td>computer hardware</td>\n",
       "      <td>Taking Care of Small Business Technology</td>\n",
       "      <td>taking care of small business technology</td>\n",
       "      <td>computer hardware taking care of small busines...</td>\n",
       "      <td>0</td>\n",
       "    </tr>\n",
       "    <tr>\n",
       "      <th>1</th>\n",
       "      <td>health, wellness and fitness</td>\n",
       "      <td>Build World-Class Recreation Programs</td>\n",
       "      <td>build world class recreation programs</td>\n",
       "      <td>health, wellness and fitness build world class...</td>\n",
       "      <td>1</td>\n",
       "    </tr>\n",
       "    <tr>\n",
       "      <th>2</th>\n",
       "      <td>internet</td>\n",
       "      <td>Most Powerful Lead Generation Software for Mar...</td>\n",
       "      <td>most powerful lead generation software for mar...</td>\n",
       "      <td>internet most powerful lead generation softwar...</td>\n",
       "      <td>2</td>\n",
       "    </tr>\n",
       "    <tr>\n",
       "      <th>3</th>\n",
       "      <td>internet</td>\n",
       "      <td>Hire quality freelancers for your job</td>\n",
       "      <td>hire quality freelancers for your job</td>\n",
       "      <td>internet hire quality freelancers for your job</td>\n",
       "      <td>2</td>\n",
       "    </tr>\n",
       "    <tr>\n",
       "      <th>4</th>\n",
       "      <td>financial services</td>\n",
       "      <td>Financial Advisers Norwich, Norfolk</td>\n",
       "      <td>financial advisers norwich norfolk</td>\n",
       "      <td>financial services financial advisers norwich ...</td>\n",
       "      <td>3</td>\n",
       "    </tr>\n",
       "  </tbody>\n",
       "</table>\n",
       "</div>"
      ],
      "text/plain": [
       "                       industry  \\\n",
       "0             computer hardware   \n",
       "1  health, wellness and fitness   \n",
       "2                      internet   \n",
       "3                      internet   \n",
       "4            financial services   \n",
       "\n",
       "                                              output  \\\n",
       "0           Taking Care of Small Business Technology   \n",
       "1              Build World-Class Recreation Programs   \n",
       "2  Most Powerful Lead Generation Software for Mar...   \n",
       "3              Hire quality freelancers for your job   \n",
       "4                Financial Advisers Norwich, Norfolk   \n",
       "\n",
       "                                    processed_slogan  \\\n",
       "0           taking care of small business technology   \n",
       "1              build world class recreation programs   \n",
       "2  most powerful lead generation software for mar...   \n",
       "3              hire quality freelancers for your job   \n",
       "4                 financial advisers norwich norfolk   \n",
       "\n",
       "                                     modified_slogan  industry_index  \n",
       "0  computer hardware taking care of small busines...               0  \n",
       "1  health, wellness and fitness build world class...               1  \n",
       "2  internet most powerful lead generation softwar...               2  \n",
       "3     internet hire quality freelancers for your job               2  \n",
       "4  financial services financial advisers norwich ...               3  "
      ]
     },
     "execution_count": 16,
     "metadata": {},
     "output_type": "execute_result"
    }
   ],
   "source": [
    "df['industry_index'] = df['industry'].map(industry_to_index)\n",
    "df.head()\n"
   ]
  },
  {
   "cell_type": "markdown",
   "metadata": {
    "id": "bICgqYlkCHU2"
   },
   "source": [
    "Split the DataFrame `df` into training and testing sets, setting aside 20% of the data for the test set. Be sure to set the parameter `stratify=df[\"industry_index\"]`. This ensures that both sets have the same proportion of each class (industry) as in the original dataset, resulting in balanced datasets. Call the training DataFrame `df_train` and the testing DataFrame `df_test`."
   ]
  },
  {
   "cell_type": "code",
   "execution_count": 18,
   "metadata": {
    "id": "4PdSJ2gYC9Tp"
   },
   "outputs": [],
   "source": [
    "class_counts = df[\"industry_index\"].value_counts()\n",
    "valid_classes = class_counts[class_counts > 1].index\n",
    "df_filtered = df[df[\"industry_index\"].isin(valid_classes)]\n",
    "\n",
    "df_train, df_test = train_test_split(\n",
    "    df_filtered,\n",
    "    test_size=0.2,\n",
    "    stratify=df_filtered[\"industry_index\"],\n",
    "    random_state=42\n",
    ")"
   ]
  },
  {
   "cell_type": "markdown",
   "metadata": {
    "id": "RQ43WVLD3F9t"
   },
   "source": [
    "Our classifier will use padded slogan sequences as inputs, similar to input sequences used for the slogan generator. The difference is we will not use sequences that get progressively longer, but instead we will use **complete slogans**. This is because our classifier does not need to learn how to predict what word comes next. It needs the full context of a slogan to learn how to accurately predict the industry.  \n",
    "\n",
    "The next steps will walk you through how to create these sequences.  "
   ]
  },
  {
   "cell_type": "markdown",
   "metadata": {
    "id": "_4MDmlZ349bC"
   },
   "source": [
    "We previously created and fitted a `Tokenizer` object called `tokenizer` while preparing data for the slogan generator. Now, we will reuse it to convert words into numerical indices.  \n",
    "\n",
    "In the code cell below, use the `texts_to_sequences()` **method** of `tokenizer` to transform the `processed_slogan` column in **both** the `df_train` and `df_test` DataFrames into sequences of numerical indices. Store the results in variables named `X_train` and `X_test`.\n"
   ]
  },
  {
   "cell_type": "code",
   "execution_count": 19,
   "metadata": {
    "id": "Ce5ro9jV3GGs"
   },
   "outputs": [],
   "source": [
    "X_train = tokenizer.texts_to_sequences(df_train[\"processed_slogan\"])\n",
    "X_test = tokenizer.texts_to_sequences(df_test[\"processed_slogan\"])"
   ]
  },
  {
   "cell_type": "markdown",
   "metadata": {
    "id": "klUEvtcY8DHW"
   },
   "source": [
    "The slogan sequences are of varying lengths. We will need to pad them the same way we did to the input sequences for the slogan generator. The `pad_sequences()` function can ensure the sequences in `slogan_sequences` have the same length.  \n",
    "\n",
    "In the code cell below, use the `pad_sequences()` function to standardise the `slogan_sequences` lengths. Set the `maxlen` parameter to `max_seq_len`, the `padding` parameter to 0, and assign the resulting padded sequences to the same variables, `X_train` and `X_test`."
   ]
  },
  {
   "cell_type": "code",
   "execution_count": 20,
   "metadata": {
    "id": "gu30y1hO8DR8"
   },
   "outputs": [],
   "source": [
    "from tensorflow.keras.preprocessing.sequence import pad_sequences\n",
    "\n",
    "X_train = pad_sequences(X_train, maxlen=max_seq_len, padding='pre')\n",
    "X_test = pad_sequences(X_test, maxlen=max_seq_len, padding='pre')\n"
   ]
  },
  {
   "cell_type": "markdown",
   "metadata": {
    "id": "uIpa6O7MANYO"
   },
   "source": [
    "We have successfully created training and testing inputs for our model. Now, we will create the outputs - industry categories.\n",
    "\n",
    " In the code cell that follows, use `tf.keras.utils.to_categorical()` to apply one-hot encoding to the `industry_index` column of **both** `df_train` and `df_test` DataFrames. Assign the results to a variables named `y_train` and `y_test`.\n",
    "\n",
    " *Hint: set the `num_classes` parameter to the total number of industries in the DataFrame. The `industries` variable can be used to find this value.*"
   ]
  },
  {
   "cell_type": "code",
   "execution_count": 21,
   "metadata": {
    "id": "oOGzb_8BANpE"
   },
   "outputs": [],
   "source": [
    "num_classes = len(industries)\n",
    "\n",
    "y_train = to_categorical(df_train['industry_index'], num_classes=num_classes)\n",
    "y_test = to_categorical(df_test['industry_index'], num_classes=num_classes)\n"
   ]
  },
  {
   "cell_type": "markdown",
   "metadata": {
    "id": "QlPKC7v-n7dM"
   },
   "source": [
    "## Slogan Classifier Architecture\n",
    "\n",
    "Configure the LSTM classifier following these steps:  \n",
    "\n",
    "\n",
    "1. Create a Sequential model:  \n",
    "   Use `tf.keras.models.Sequential()` to create a sequential model. This model will consist of an embedding layer, two LSTM layers, and a dense output layer.\n",
    "\n",
    "2. Add an embedding layer which will convert words into dense vector representations. Configure this layer with:\n",
    "   > * `total_words` as the vocabulary size.\n",
    "   > * 100 as the embedding dimension.\n",
    "   > * `max_seq_len` as the `input_length` (this is the length of the slogans).\n",
    "\n",
    "3. Add the first LSTM layer. Configure it with:\n",
    "   > * 150 units.\n",
    "   > * Set `return_sequences` to `True` to ensure the layer outputs sequences for the next LSTM layer.\n",
    "\n",
    "4. Add the second LSTM layer which will process the output from the previous LSTM layer. Configure it with:\n",
    "   > * 100 units.\n",
    "   > * No need to set `return_sequences` here (it is the final LSTM layer).\n",
    "\n",
    "5. Add the dense output layer which will classify the data into industries. Configure it with:\n",
    "   > * The number of unique industries as the number of units.\n",
    "   > * The `softmax` activation function to get probabilities for each class (industry).\n",
    "\n",
    "6. Use `Sequential` to arrange all layers in the correct order and complete the architecture of the LSTM model called **class_model**.\n"
   ]
  },
  {
   "cell_type": "code",
   "execution_count": 22,
   "metadata": {
    "id": "JIHaUMT4oC4Y"
   },
   "outputs": [],
   "source": [
    "class_model = Sequential()\n",
    "\n",
    "# Embedding layer: vocab size = total_words, embedding dim = 100, input length = max_seq_len\n",
    "class_model.add(Embedding(input_dim=total_words, output_dim=100, input_length=max_seq_len))\n",
    "\n",
    "# First LSTM layer with 150 units, returning sequences\n",
    "class_model.add(LSTM(150, return_sequences=True))\n",
    "\n",
    "# Second LSTM layer with 100 units\n",
    "class_model.add(LSTM(100))\n",
    "\n",
    "# Dense output layer with softmax activation for classification into industries\n",
    "class_model.add(Dense(len(industries), activation='softmax'))\n"
   ]
  },
  {
   "cell_type": "markdown",
   "metadata": {
    "id": "SlMle0UzGzG_"
   },
   "source": [
    "In the code cell below, compile `class_model` using `categorical_crossentropy` loss, an Adam optimiser, and an appropriate metric of your choice."
   ]
  },
  {
   "cell_type": "code",
   "execution_count": 23,
   "metadata": {
    "id": "ltBuXv3TGzPm"
   },
   "outputs": [],
   "source": [
    "class_model.compile(\n",
    "    loss='categorical_crossentropy',\n",
    "    optimizer=Adam(),\n",
    "    metrics=['accuracy']\n",
    ")\n"
   ]
  },
  {
   "cell_type": "markdown",
   "metadata": {
    "id": "4Zvuqmg2HA3e"
   },
   "source": [
    "## Slogan Classification & Evaluation\n",
    "\n",
    "In the code cell that follows, fit the compiled model on the inputs and outputs, setting **the number of epochs to 50**."
   ]
  },
  {
   "cell_type": "code",
   "execution_count": 24,
   "metadata": {
    "id": "hZyjCegNHTrc"
   },
   "outputs": [
    {
     "name": "stdout",
     "output_type": "stream",
     "text": [
      "Epoch 1/50\n",
      "54/54 [==============================] - 13s 115ms/step - loss: 4.4952 - accuracy: 0.0670 - val_loss: 4.2499 - val_accuracy: 0.0959\n",
      "Epoch 2/50\n",
      "54/54 [==============================] - 5s 97ms/step - loss: 4.2995 - accuracy: 0.0732 - val_loss: 4.2479 - val_accuracy: 0.0959\n",
      "Epoch 3/50\n",
      "54/54 [==============================] - 5s 92ms/step - loss: 4.2914 - accuracy: 0.0819 - val_loss: 4.2342 - val_accuracy: 0.0959\n",
      "Epoch 4/50\n",
      "54/54 [==============================] - 5s 96ms/step - loss: 4.2866 - accuracy: 0.0819 - val_loss: 4.2299 - val_accuracy: 0.0959\n",
      "Epoch 5/50\n",
      "54/54 [==============================] - 5s 87ms/step - loss: 4.2611 - accuracy: 0.0819 - val_loss: 4.1837 - val_accuracy: 0.0959\n",
      "Epoch 6/50\n",
      "54/54 [==============================] - 5s 97ms/step - loss: 4.0931 - accuracy: 0.0913 - val_loss: 4.0485 - val_accuracy: 0.1018\n",
      "Epoch 7/50\n",
      "54/54 [==============================] - 5s 92ms/step - loss: 3.8631 - accuracy: 0.1141 - val_loss: 4.0495 - val_accuracy: 0.1076\n",
      "Epoch 8/50\n",
      "54/54 [==============================] - 5s 100ms/step - loss: 3.6410 - accuracy: 0.1768 - val_loss: 3.9567 - val_accuracy: 0.1439\n",
      "Epoch 9/50\n",
      "54/54 [==============================] - 5s 93ms/step - loss: 3.3445 - accuracy: 0.2572 - val_loss: 3.9902 - val_accuracy: 0.1637\n",
      "Epoch 10/50\n",
      "54/54 [==============================] - 5s 92ms/step - loss: 3.0320 - accuracy: 0.3175 - val_loss: 3.9521 - val_accuracy: 0.1626\n",
      "Epoch 11/50\n",
      "54/54 [==============================] - 5s 93ms/step - loss: 2.7239 - accuracy: 0.3828 - val_loss: 3.9890 - val_accuracy: 0.1871\n",
      "Epoch 12/50\n",
      "54/54 [==============================] - 5s 92ms/step - loss: 2.4300 - accuracy: 0.4460 - val_loss: 4.0936 - val_accuracy: 0.1719\n",
      "Epoch 13/50\n",
      "54/54 [==============================] - 5s 94ms/step - loss: 2.1553 - accuracy: 0.5095 - val_loss: 4.2130 - val_accuracy: 0.1860\n",
      "Epoch 14/50\n",
      "54/54 [==============================] - 5s 92ms/step - loss: 1.9509 - accuracy: 0.5540 - val_loss: 4.2777 - val_accuracy: 0.1801\n",
      "Epoch 15/50\n",
      "54/54 [==============================] - 5s 90ms/step - loss: 1.7465 - accuracy: 0.6064 - val_loss: 4.3636 - val_accuracy: 0.1871\n",
      "Epoch 16/50\n",
      "54/54 [==============================] - 5s 93ms/step - loss: 1.5421 - accuracy: 0.6558 - val_loss: 4.5130 - val_accuracy: 0.1883\n",
      "Epoch 17/50\n",
      "54/54 [==============================] - 5s 93ms/step - loss: 1.3706 - accuracy: 0.6980 - val_loss: 4.6084 - val_accuracy: 0.1778\n",
      "Epoch 18/50\n",
      "54/54 [==============================] - 5s 99ms/step - loss: 1.2340 - accuracy: 0.7281 - val_loss: 4.7309 - val_accuracy: 0.1930\n",
      "Epoch 19/50\n",
      "54/54 [==============================] - 5s 95ms/step - loss: 1.1050 - accuracy: 0.7662 - val_loss: 4.7688 - val_accuracy: 0.1965\n",
      "Epoch 20/50\n",
      "54/54 [==============================] - 5s 95ms/step - loss: 0.9890 - accuracy: 0.8025 - val_loss: 4.8967 - val_accuracy: 0.1977\n",
      "Epoch 21/50\n",
      "54/54 [==============================] - 5s 92ms/step - loss: 0.8964 - accuracy: 0.8162 - val_loss: 4.9434 - val_accuracy: 0.1953\n",
      "Epoch 22/50\n",
      "54/54 [==============================] - 5s 92ms/step - loss: 0.7963 - accuracy: 0.8414 - val_loss: 5.0244 - val_accuracy: 0.1930\n",
      "Epoch 23/50\n",
      "54/54 [==============================] - 5s 100ms/step - loss: 0.7115 - accuracy: 0.8660 - val_loss: 5.0973 - val_accuracy: 0.1965\n",
      "Epoch 24/50\n",
      "54/54 [==============================] - 5s 101ms/step - loss: 0.6363 - accuracy: 0.8835 - val_loss: 5.2413 - val_accuracy: 0.1953\n",
      "Epoch 25/50\n",
      "54/54 [==============================] - 5s 94ms/step - loss: 0.5657 - accuracy: 0.8964 - val_loss: 5.3782 - val_accuracy: 0.1906\n",
      "Epoch 26/50\n",
      "54/54 [==============================] - 5s 93ms/step - loss: 0.5025 - accuracy: 0.9128 - val_loss: 5.3262 - val_accuracy: 0.1965\n",
      "Epoch 27/50\n",
      "54/54 [==============================] - 5s 93ms/step - loss: 0.4539 - accuracy: 0.9248 - val_loss: 5.4618 - val_accuracy: 0.2035\n",
      "Epoch 28/50\n",
      "54/54 [==============================] - 5s 89ms/step - loss: 0.4012 - accuracy: 0.9356 - val_loss: 5.5462 - val_accuracy: 0.2000\n",
      "Epoch 29/50\n",
      "54/54 [==============================] - 5s 94ms/step - loss: 0.3594 - accuracy: 0.9441 - val_loss: 5.6130 - val_accuracy: 0.2000\n",
      "Epoch 30/50\n",
      "54/54 [==============================] - 5s 97ms/step - loss: 0.3293 - accuracy: 0.9485 - val_loss: 5.7045 - val_accuracy: 0.2000\n",
      "Epoch 31/50\n",
      "54/54 [==============================] - 5s 93ms/step - loss: 0.2965 - accuracy: 0.9552 - val_loss: 5.7344 - val_accuracy: 0.1977\n",
      "Epoch 32/50\n",
      "54/54 [==============================] - 5s 101ms/step - loss: 0.2651 - accuracy: 0.9640 - val_loss: 5.8277 - val_accuracy: 0.2047\n",
      "Epoch 33/50\n",
      "54/54 [==============================] - 5s 91ms/step - loss: 0.2342 - accuracy: 0.9687 - val_loss: 5.8395 - val_accuracy: 0.2000\n",
      "Epoch 34/50\n",
      "54/54 [==============================] - 5s 93ms/step - loss: 0.2119 - accuracy: 0.9737 - val_loss: 5.9433 - val_accuracy: 0.1895\n",
      "Epoch 35/50\n",
      "54/54 [==============================] - 5s 95ms/step - loss: 0.1970 - accuracy: 0.9745 - val_loss: 6.0132 - val_accuracy: 0.1953\n",
      "Epoch 36/50\n",
      "54/54 [==============================] - 5s 95ms/step - loss: 0.1819 - accuracy: 0.9769 - val_loss: 6.0192 - val_accuracy: 0.1977\n",
      "Epoch 37/50\n",
      "54/54 [==============================] - 5s 99ms/step - loss: 0.1618 - accuracy: 0.9801 - val_loss: 6.0936 - val_accuracy: 0.2012\n",
      "Epoch 38/50\n",
      "54/54 [==============================] - 5s 96ms/step - loss: 0.1429 - accuracy: 0.9824 - val_loss: 6.0882 - val_accuracy: 0.1953\n",
      "Epoch 39/50\n",
      "54/54 [==============================] - 5s 93ms/step - loss: 0.1323 - accuracy: 0.9860 - val_loss: 6.1667 - val_accuracy: 0.1871\n",
      "Epoch 40/50\n",
      "54/54 [==============================] - 6s 107ms/step - loss: 0.1190 - accuracy: 0.9868 - val_loss: 6.2757 - val_accuracy: 0.1930\n",
      "Epoch 41/50\n",
      "54/54 [==============================] - 5s 99ms/step - loss: 0.1081 - accuracy: 0.9874 - val_loss: 6.2518 - val_accuracy: 0.1836\n",
      "Epoch 42/50\n",
      "54/54 [==============================] - 5s 97ms/step - loss: 0.0991 - accuracy: 0.9886 - val_loss: 6.2622 - val_accuracy: 0.1906\n",
      "Epoch 43/50\n",
      "54/54 [==============================] - 6s 103ms/step - loss: 0.0929 - accuracy: 0.9892 - val_loss: 6.3713 - val_accuracy: 0.1871\n",
      "Epoch 44/50\n",
      "54/54 [==============================] - 5s 93ms/step - loss: 0.0866 - accuracy: 0.9892 - val_loss: 6.3984 - val_accuracy: 0.1895\n",
      "Epoch 45/50\n",
      "54/54 [==============================] - 5s 93ms/step - loss: 0.0779 - accuracy: 0.9912 - val_loss: 6.4813 - val_accuracy: 0.1906\n",
      "Epoch 46/50\n",
      "54/54 [==============================] - 5s 95ms/step - loss: 0.0707 - accuracy: 0.9912 - val_loss: 6.4964 - val_accuracy: 0.1918\n",
      "Epoch 47/50\n",
      "54/54 [==============================] - 5s 96ms/step - loss: 0.0646 - accuracy: 0.9927 - val_loss: 6.5176 - val_accuracy: 0.1906\n",
      "Epoch 48/50\n",
      "54/54 [==============================] - 5s 102ms/step - loss: 0.0616 - accuracy: 0.9930 - val_loss: 6.5485 - val_accuracy: 0.1836\n",
      "Epoch 49/50\n",
      "54/54 [==============================] - 5s 94ms/step - loss: 0.0565 - accuracy: 0.9939 - val_loss: 6.5363 - val_accuracy: 0.1942\n",
      "Epoch 50/50\n",
      "54/54 [==============================] - 5s 100ms/step - loss: 0.0526 - accuracy: 0.9944 - val_loss: 6.5831 - val_accuracy: 0.1848\n"
     ]
    }
   ],
   "source": [
    "history = class_model.fit(\n",
    "    X_train,\n",
    "    y_train,\n",
    "    epochs=50,\n",
    "    batch_size=64,\n",
    "    validation_split=0.2\n",
    ")\n"
   ]
  },
  {
   "cell_type": "markdown",
   "metadata": {
    "id": "oBNRUAsQHiv5"
   },
   "source": [
    "Evaluate the model using the testing set. Add a comment on the model's performance."
   ]
  },
  {
   "cell_type": "code",
   "execution_count": 25,
   "metadata": {
    "id": "1eTsBN5cHi9a"
   },
   "outputs": [
    {
     "name": "stdout",
     "output_type": "stream",
     "text": [
      "34/34 - 0s - loss: 6.7806 - accuracy: 0.1891 - 442ms/epoch - 13ms/step\n",
      "Test Loss: 6.7806\n",
      "Test Accuracy: 0.1891\n"
     ]
    }
   ],
   "source": [
    "test_loss, test_accuracy = class_model.evaluate(X_test, y_test, verbose=2)\n",
    "print(f\"Test Loss: {test_loss:.4f}\")\n",
    "print(f\"Test Accuracy: {test_accuracy:.4f}\")\n",
    "\n",
    "# The test accuracy gives you an estimate of how well your model generalizes \n",
    "# to unseen data. If the accuracy is high (e.g., above 80%), it indicates the \n",
    "# model learned to classify slogans into industries effectively. If it’s \n",
    "# lower, you might consider tuning the model, increasing training data, or \n",
    "# trying different architectures or preprocessing steps."
   ]
  },
  {
   "cell_type": "markdown",
   "metadata": {
    "id": "sHIdfP4tiYnt"
   },
   "source": [
    "We will now define a function called `classify_slogan` which takes a slogan as input and predicts the industry it belongs to using the trained model, `class_model`.  \n",
    "\n",
    "Carefully follow the code below and complete the missing parts (indicated by ellipses) as guided by the comments."
   ]
  },
  {
   "cell_type": "code",
   "execution_count": 26,
   "metadata": {
    "id": "fNEmTt6piYvE"
   },
   "outputs": [],
   "source": [
    "def classify_slogan(slogan):\n",
    "    # Use the preprocess_text to clean the input slogan\n",
    "    slogan = preprocess_text(slogan)\n",
    "\n",
    "    # Converting the slogan to a sequence of indices\n",
    "    sequence = tokenizer.texts_to_sequences([slogan])\n",
    "\n",
    "    # Pad the sequence using the pad_sequences() function\n",
    "    padded_sequence = pad_sequences(sequence, maxlen=max_seq_len, padding='pre')\n",
    "\n",
    "    # Pass padded_sequence into the class_model to get predicted probabilities for each industry\n",
    "    prediction = class_model.predict(padded_sequence)\n",
    "\n",
    "    # Use np.argmax() to get the index of the industry with the highest probability\n",
    "    predicted_index = np.argmax(prediction, axis=1)[0]\n",
    "\n",
    "    # Return the predicted industry\n",
    "    return industries[predicted_index]\n"
   ]
  },
  {
   "cell_type": "markdown",
   "metadata": {
    "id": "RZbZQ-TNoDRj"
   },
   "source": [
    "## Combining the two models\n",
    "\n",
    "Run the code cell below to combine the two models: we will first generate a slogan for a company in the \"internet\" industry, then pass the generated slogan to the slogan classifier to see if it correctly classifies it as internet."
   ]
  },
  {
   "cell_type": "code",
   "execution_count": 27,
   "metadata": {
    "id": "SMpjs0rFoILz"
   },
   "outputs": [
    {
     "name": "stdout",
     "output_type": "stream",
     "text": [
      "1/1 [==============================] - 1s 1s/step\n",
      "Generated Slogan: internet web design and development agency in the uk 's premier lasik and sample blockchain design and services in o communications\n",
      "Predicted Industry: internet\n"
     ]
    }
   ],
   "source": [
    "industry = \"internet\"\n",
    "generated_slogan = generate_slogan(industry)\n",
    "predicted_industry = classify_slogan(generated_slogan)\n",
    "\n",
    "print(f\"Generated Slogan: {generated_slogan}\")\n",
    "print(f\"Predicted Industry: {predicted_industry}\")"
   ]
  },
  {
   "cell_type": "markdown",
   "metadata": {
    "id": "_niR0aS5zlQC"
   },
   "source": [
    "Compare the results and comment on any differences you notice between the generated slogans and the classifier’s predictions in the markdown cell below.\n"
   ]
  },
  {
   "cell_type": "markdown",
   "metadata": {
    "id": "R17KFEDLzlda"
   },
   "source": [
    "#Comparison of Generated Slogan and Classifier Prediction\n",
    "\n",
    "**Generated Slogan:**  \n",
    "*internet web design and development agency in the uk's premier lasik and sample blockchain design and services in o communications*\n",
    "\n",
    "**Predicted Industry:**  \n",
    "*internet*\n",
    "\n",
    "**Commentary:**  \n",
    "The classifier correctly identified the industry as \"internet,\" which aligns with the input used for generating the slogan. However, the slogan itself is quite incoherent and includes unrelated terms such as \"lasik\" (which pertains to eye surgery) and \"blockchain\" (which, while possibly connected to tech, is not specific to internet services). This suggests that the slogan generator may be pulling in phrases from multiple domains without clear semantic filtering.\n",
    "\n",
    "The classifier still picked \"internet\" likely due to the presence of keywords such as \"web design,\" \"development,\" and \"communications.\" This indicates the classifier is more focused on identifying strong domain-specific terms rather than judging the overall coherence of the slogan.\n",
    "\n",
    "To improve results, the slogan generator could benefit from better industry-specific keyword filtering and more natural language structuring.\n"
   ]
  }
 ],
 "metadata": {
  "colab": {
   "provenance": []
  },
  "kernelspec": {
   "display_name": "Python 3 (ipykernel)",
   "language": "python",
   "name": "python3"
  },
  "language_info": {
   "codemirror_mode": {
    "name": "ipython",
    "version": 3
   },
   "file_extension": ".py",
   "mimetype": "text/x-python",
   "name": "python",
   "nbconvert_exporter": "python",
   "pygments_lexer": "ipython3",
   "version": "3.11.4"
  }
 },
 "nbformat": 4,
 "nbformat_minor": 4
}
